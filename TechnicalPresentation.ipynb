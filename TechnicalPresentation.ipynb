{
 "cells": [
  {
   "cell_type": "code",
   "execution_count": 4,
   "id": "1a535ca4-835a-427f-9d1f-982115eb0f9d",
   "metadata": {},
   "outputs": [],
   "source": [
    "# Step 1: Import necessary libraries\n",
    "import pandas as pd\n"
   ]
  },
  {
   "cell_type": "code",
   "execution_count": null,
   "id": "afaa322e-0607-4fbe-99c2-1af423286fab",
   "metadata": {},
   "outputs": [],
   "source": [
    "# Step 2: Load the dataset\n",
    "anime_series_data = pd.read_csv(\"Animated_Tv_Series.csv\")"
   ]
  },
  {
   "cell_type": "code",
   "execution_count": 16,
   "id": "d394add2-9560-4f6b-86f5-0064c228b22c",
   "metadata": {},
   "outputs": [
    {
     "data": {
      "text/html": [
       "<div>\n",
       "<style scoped>\n",
       "    .dataframe tbody tr th:only-of-type {\n",
       "        vertical-align: middle;\n",
       "    }\n",
       "\n",
       "    .dataframe tbody tr th {\n",
       "        vertical-align: top;\n",
       "    }\n",
       "\n",
       "    .dataframe thead th {\n",
       "        text-align: right;\n",
       "    }\n",
       "</style>\n",
       "<table border=\"1\" class=\"dataframe\">\n",
       "  <thead>\n",
       "    <tr style=\"text-align: right;\">\n",
       "      <th></th>\n",
       "      <th>Id</th>\n",
       "      <th>Title</th>\n",
       "      <th>Episodes</th>\n",
       "      <th>Year</th>\n",
       "      <th>Original channel</th>\n",
       "      <th>American company</th>\n",
       "      <th>Note</th>\n",
       "      <th>Technique</th>\n",
       "      <th>IMDb</th>\n",
       "      <th>Google users</th>\n",
       "    </tr>\n",
       "  </thead>\n",
       "  <tbody>\n",
       "    <tr>\n",
       "      <th>0</th>\n",
       "      <td>1</td>\n",
       "      <td>2 Stupid Dogs</td>\n",
       "      <td>26.0</td>\n",
       "      <td>1993-1995</td>\n",
       "      <td>TBS</td>\n",
       "      <td>Hanna-Barbera</td>\n",
       "      <td>NaN</td>\n",
       "      <td>Traditional</td>\n",
       "      <td>7.2</td>\n",
       "      <td>91%</td>\n",
       "    </tr>\n",
       "    <tr>\n",
       "      <th>1</th>\n",
       "      <td>2</td>\n",
       "      <td>3-2-1 Penguins!</td>\n",
       "      <td>27.0</td>\n",
       "      <td>2000-2008</td>\n",
       "      <td>Direct to video</td>\n",
       "      <td>Big Idea Productions</td>\n",
       "      <td>NaN</td>\n",
       "      <td>CGI</td>\n",
       "      <td>6.5</td>\n",
       "      <td>91%</td>\n",
       "    </tr>\n",
       "    <tr>\n",
       "      <th>2</th>\n",
       "      <td>3</td>\n",
       "      <td>3-South</td>\n",
       "      <td>13.0</td>\n",
       "      <td>2002-2003</td>\n",
       "      <td>MTV</td>\n",
       "      <td>Warner Bros. AnimationMTV Animation</td>\n",
       "      <td>NaN</td>\n",
       "      <td>Traditional</td>\n",
       "      <td>8.0</td>\n",
       "      <td>87%</td>\n",
       "    </tr>\n",
       "    <tr>\n",
       "      <th>3</th>\n",
       "      <td>4</td>\n",
       "      <td>3Below: Tales of Arcadia</td>\n",
       "      <td>28.0</td>\n",
       "      <td>2018-2019</td>\n",
       "      <td>Netflix</td>\n",
       "      <td>DreamWorks Animation Television</td>\n",
       "      <td>NaN</td>\n",
       "      <td>CGI</td>\n",
       "      <td>7.6</td>\n",
       "      <td>77%</td>\n",
       "    </tr>\n",
       "    <tr>\n",
       "      <th>4</th>\n",
       "      <td>5</td>\n",
       "      <td>3rd &amp; Bird</td>\n",
       "      <td>51.0</td>\n",
       "      <td>2008-2010</td>\n",
       "      <td>Playhouse Disney</td>\n",
       "      <td>Little Airplane Productions</td>\n",
       "      <td>British co-production</td>\n",
       "      <td>Flash</td>\n",
       "      <td>7.8</td>\n",
       "      <td>92%</td>\n",
       "    </tr>\n",
       "  </tbody>\n",
       "</table>\n",
       "</div>"
      ],
      "text/plain": [
       "   Id                     Title  Episodes       Year  Original channel  \\\n",
       "0   1             2 Stupid Dogs      26.0  1993-1995               TBS   \n",
       "1   2           3-2-1 Penguins!      27.0  2000-2008   Direct to video   \n",
       "2   3                   3-South      13.0  2002-2003               MTV   \n",
       "3   4  3Below: Tales of Arcadia      28.0  2018-2019           Netflix   \n",
       "4   5                3rd & Bird      51.0  2008-2010  Playhouse Disney   \n",
       "\n",
       "                      American company                   Note    Technique  \\\n",
       "0                        Hanna-Barbera                    NaN  Traditional   \n",
       "1                 Big Idea Productions                    NaN          CGI   \n",
       "2  Warner Bros. AnimationMTV Animation                    NaN  Traditional   \n",
       "3      DreamWorks Animation Television                    NaN          CGI   \n",
       "4          Little Airplane Productions  British co-production        Flash   \n",
       "\n",
       "   IMDb Google users  \n",
       "0   7.2          91%  \n",
       "1   6.5          91%  \n",
       "2   8.0          87%  \n",
       "3   7.6          77%  \n",
       "4   7.8          92%  "
      ]
     },
     "execution_count": 16,
     "metadata": {},
     "output_type": "execute_result"
    }
   ],
   "source": [
    "# Step 3: Display the first few rows of the dataset\n",
    "anime_series_data.head()\n"
   ]
  },
  {
   "cell_type": "code",
   "execution_count": 9,
   "id": "1350a4d9-8c3f-4a78-91e1-ada5ccb00291",
   "metadata": {},
   "outputs": [
    {
     "name": "stdout",
     "output_type": "stream",
     "text": [
      "Missing values in each column:\n",
      " Id                     0\n",
      "Title                  0\n",
      "Episodes              18\n",
      "Year                   0\n",
      "Original channel       7\n",
      "American company      45\n",
      "Note                1328\n",
      "Technique              0\n",
      "IMDb                   4\n",
      "Google users           4\n",
      "dtype: int64\n"
     ]
    }
   ],
   "source": [
    "# Step 4: Check for missing values\n",
    "missing_values = anime_series_data.isnull().sum()\n",
    "print(\"Missing values in each column:\\n\", missing_values)\n"
   ]
  },
  {
   "cell_type": "code",
   "execution_count": 13,
   "id": "293d56fb-9a3b-45de-8c2e-4ef3fbe00fa6",
   "metadata": {},
   "outputs": [],
   "source": [
    "# Step 5: Handle missing values\n",
    "\n",
    "## Option 1: Remove rows with missing values\n",
    "anime_series_data_cleaned = anime_series_data.dropna()"
   ]
  },
  {
   "cell_type": "code",
   "execution_count": 12,
   "id": "fd5aede6-6244-4ed2-87b5-c9056769a544",
   "metadata": {},
   "outputs": [],
   "source": [
    "## Option 2: Replace missing values with a specific value\n",
    "anime_series_data_cleaned = anime_series_data.fillna(0)"
   ]
  },
  {
   "cell_type": "code",
   "execution_count": 15,
   "id": "ddccfca1-55dd-4997-bef6-f6a1031cc80e",
   "metadata": {
    "scrolled": true
   },
   "outputs": [
    {
     "data": {
      "text/plain": [
       "Id                  0\n",
       "Title               0\n",
       "Episodes            0\n",
       "Year                0\n",
       "Original channel    0\n",
       "American company    0\n",
       "Note                0\n",
       "Technique           0\n",
       "IMDb                0\n",
       "Google users        0\n",
       "dtype: int64"
      ]
     },
     "execution_count": 15,
     "metadata": {},
     "output_type": "execute_result"
    }
   ],
   "source": [
    "# Step 6: Verify if missing values are handled\n",
    "anime_series_data_cleaned.isnull().sum()\n"
   ]
  }
 ],
 "metadata": {
  "kernelspec": {
   "display_name": "Python 3 (ipykernel)",
   "language": "python",
   "name": "python3"
  },
  "language_info": {
   "codemirror_mode": {
    "name": "ipython",
    "version": 3
   },
   "file_extension": ".py",
   "mimetype": "text/x-python",
   "name": "python",
   "nbconvert_exporter": "python",
   "pygments_lexer": "ipython3",
   "version": "3.10.13"
  }
 },
 "nbformat": 4,
 "nbformat_minor": 5
}
